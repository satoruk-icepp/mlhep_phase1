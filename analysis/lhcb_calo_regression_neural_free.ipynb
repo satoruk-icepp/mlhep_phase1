{
 "cells": [
  {
   "cell_type": "code",
   "execution_count": null,
   "metadata": {},
   "outputs": [],
   "source": [
    "import numpy as np\n",
    "import matplotlib.pyplot as plt\n",
    "from tqdm import tqdm\n",
    "import seaborn as sns\n",
    "from IPython.display import clear_output\n",
    "sns.set()\n",
    "\n",
    "def one_hot(a, num_classes):\n",
    "    return np.squeeze(np.eye(num_classes)[a.reshape(-1)])"
   ]
  },
  {
   "cell_type": "markdown",
   "metadata": {},
   "source": [
    "#### If you are using Google Colab you fill need following two lines of code"
   ]
  },
  {
   "cell_type": "code",
   "execution_count": 1,
   "metadata": {},
   "outputs": [],
   "source": [
    "# from google.colab import drive\n",
    "# drive.mount('/gdrive')"
   ]
  },
  {
   "cell_type": "markdown",
   "metadata": {},
   "source": [
    "# Loading data\n",
    "\n",
    "Data is stored in `.npz`-format which is a special filetype for persisting multiple NumPy arrays on disk. \n",
    "\n",
    "More info: https://docs.scipy.org/doc/numpy/reference/generated/numpy.lib.format.html#module-numpy.lib.format.\n",
    "\n",
    "File `dat_train.npz` contains four arrays: \n",
    "\n",
    "  * `EnergyDeposit` - images of calorimeters responses\n",
    "  * `ParticleMomentum` - $p_x, p_y, p_z$ of initial partice\n",
    "  * `ParticlePoint` - $x, y$ of initial particle\n",
    "  * `ParticlePDG` - particle type(either $e^-$ or $\\gamma$)"
   ]
  },
  {
   "cell_type": "code",
   "execution_count": null,
   "metadata": {},
   "outputs": [],
   "source": [
    "# open train dataset\n",
    "data_real = np.load('../data_train.npz', allow_pickle=True)\n",
    "print(list(data_real.keys()))\n",
    "\n",
    "# [data_size, 900]\n",
    "EnergyDeposit = data_real['EnergyDeposit']\n",
    "# reshaping it as [data_size, img_size_x, img_size_y]\n",
    "EnergyDeposit = EnergyDeposit.reshape(-1, 30, 30)\n",
    "\n",
    "# [data_size, 3]\n",
    "ParticleMomentum = data_real['ParticleMomentum']\n",
    "\n",
    "# [data_size, 2]\n",
    "ParticlePoint = data_real['ParticlePoint']\n",
    "\n",
    "# [data_size, 1]\n",
    "ParticlePDG = data_real['ParticlePDG']"
   ]
  },
  {
   "cell_type": "code",
   "execution_count": null,
   "metadata": {},
   "outputs": [],
   "source": [
    "plt.figure(figsize=(12, 12))\n",
    "plt.title('$p_x$-$p_y$ distribution')\n",
    "plt.scatter(ParticleMomentum[:, 0], ParticleMomentum[:, 1]);\n",
    "plt.xlabel('$p_x$')\n",
    "plt.ylabel('$y_x$')\n",
    "plt.show()"
   ]
  },
  {
   "cell_type": "code",
   "execution_count": null,
   "metadata": {},
   "outputs": [],
   "source": [
    "plt.figure(figsize=(12, 12))\n",
    "plt.title('$x$-$y$ distribution')\n",
    "plt.scatter(ParticlePoint[:, 0], ParticlePoint[:, 1]);\n",
    "plt.xlabel('$x$')\n",
    "plt.ylabel('$x$')\n",
    "plt.show()"
   ]
  },
  {
   "cell_type": "code",
   "execution_count": null,
   "metadata": {},
   "outputs": [],
   "source": [
    "f, axs = plt.subplots(2, 3, figsize=(12, 10))\n",
    "\n",
    "for i in range(6):\n",
    "    axs[i // 3][i % 3].imshow(EnergyDeposit[i])\n",
    "plt.title('Examples of calorimeter response')\n",
    "plt.tight_layout()\n",
    "plt.show()"
   ]
  },
  {
   "cell_type": "code",
   "execution_count": null,
   "metadata": {},
   "outputs": [],
   "source": [
    "f, axs = plt.subplots(2, 3, figsize=(12, 10))\n",
    "\n",
    "for i in range(6):\n",
    "    axs[i // 3][i % 3].imshow(np.log(1 + EnergyDeposit[i]))\n",
    "plt.title('Examples of log-calorimeter response')\n",
    "plt.tight_layout()\n",
    "plt.show()"
   ]
  },
  {
   "cell_type": "code",
   "execution_count": null,
   "metadata": {},
   "outputs": [],
   "source": [
    "# not actully interested in p_z momentum\n",
    "ParticleMomentum = ParticleMomentum[:, :2]\n",
    "ParticlePoint = ParticlePoint[:, :2]\n",
    "\n",
    "ParticleMomentum_ParticlePoint = np.concatenate([ParticleMomentum, ParticlePoint], axis=1)"
   ]
  },
  {
   "cell_type": "markdown",
   "metadata": {},
   "source": [
    "## Solving it with some simple image processing"
   ]
  },
  {
   "cell_type": "code",
   "execution_count": null,
   "metadata": {},
   "outputs": [],
   "source": [
    "# !pip install scikit-image"
   ]
  },
  {
   "cell_type": "code",
   "execution_count": null,
   "metadata": {},
   "outputs": [],
   "source": [
    "from skimage import measure\n",
    "from sklearn.preprocessing import PolynomialFeatures\n",
    "polynomial_features = PolynomialFeatures(degree=2)"
   ]
  },
  {
   "cell_type": "markdown",
   "metadata": {},
   "source": [
    "## Images moments\n",
    "\n",
    "Raw moments:\n",
    "\n",
    "![](https://wikimedia.org/api/rest_v1/media/math/render/svg/cd837e91c341939056d1f48c66a4d46170f59af0)\n",
    "\n",
    "Central moments:\n",
    "\n",
    "![](https://wikimedia.org/api/rest_v1/media/math/render/svg/ce558736e1d184612633ab799a8d1eb019cc2fba)"
   ]
  },
  {
   "cell_type": "code",
   "execution_count": null,
   "metadata": {},
   "outputs": [],
   "source": [
    "ORDER_OF_MOMENT = 2"
   ]
  },
  {
   "cell_type": "code",
   "execution_count": null,
   "metadata": {},
   "outputs": [],
   "source": [
    "# our feature matrix\n",
    "X = []\n",
    "for img in tqdm(EnergyDeposit):\n",
    "    X.append(np.concatenate([measure.moments(img, order=ORDER_OF_MOMENT).ravel(), \n",
    "                             measure.moments_central(img, order=ORDER_OF_MOMENT).ravel()]))\n",
    "\n",
    "# concat everything together\n",
    "X = np.c_[X]"
   ]
  },
  {
   "cell_type": "code",
   "execution_count": null,
   "metadata": {},
   "outputs": [],
   "source": [
    "X_mean = np.mean(X, axis=0)\n",
    "X_std = np.std(X, axis=0)\n",
    "X = (X - X_mean) / X_std\n",
    "X = polynomial_features.fit_transform(X)\n",
    "\n",
    "# idx_of_features = [17, 35, 52, 68, 83, 97, 110, 122, 133, 143]\n",
    "# X = X[:, idx_of_features]"
   ]
  },
  {
   "cell_type": "code",
   "execution_count": null,
   "metadata": {},
   "outputs": [],
   "source": [
    "\"\"\"\n",
    "for i in range(X.shape[1]):\n",
    "    print(i)\n",
    "    plt.figure()\n",
    "    plt.scatter(X[:, i], ParticleMomentum[:, 0])\n",
    "    plt.show()\n",
    "\"\"\""
   ]
  },
  {
   "cell_type": "code",
   "execution_count": null,
   "metadata": {},
   "outputs": [],
   "source": [
    "from sklearn.linear_model import LinearRegression\n",
    "from sklearn.linear_model import ElasticNet\n",
    "from sklearn.linear_model import TheilSenRegressor\n",
    "\n",
    "model = LinearRegression().fit(X, ParticleMomentum_ParticlePoint)"
   ]
  },
  {
   "cell_type": "markdown",
   "metadata": {},
   "source": [
    "## Make predictions for validation set\n",
    "\n",
    "In `data_val.npz` and `data_test.npz` you only have one key: `EnergyDeposit`."
   ]
  },
  {
   "cell_type": "code",
   "execution_count": null,
   "metadata": {},
   "outputs": [],
   "source": [
    "# load validation data\n",
    "data_val = np.load('../data_val.npz', allow_pickle=True)\n",
    "EnergyDeposit_val = data_val['EnergyDeposit']\n",
    "EnergyDeposit_val = EnergyDeposit_val.reshape(-1, 30, 30)"
   ]
  },
  {
   "cell_type": "code",
   "execution_count": null,
   "metadata": {},
   "outputs": [],
   "source": [
    "# our feature matrix\n",
    "X_val = []\n",
    "for img in tqdm(EnergyDeposit_val):\n",
    "    X_val.append(np.concatenate([measure.moments(img, order=ORDER_OF_MOMENT).ravel(), \n",
    "                                 measure.moments_central(img, order=ORDER_OF_MOMENT).ravel()]))\n",
    "X_val = np.c_[X_val]\n",
    "X_val = (X_val - X_mean) / X_std\n",
    "X_val = polynomial_features.transform(X_val)\n",
    "# X_val = X_val[:, idx_of_features]"
   ]
  },
  {
   "cell_type": "code",
   "execution_count": null,
   "metadata": {},
   "outputs": [],
   "source": [
    "# predicting [data_num, 4] array with px, py, x, y\n",
    "prediction_val = model.predict(X_val)"
   ]
  },
  {
   "cell_type": "code",
   "execution_count": null,
   "metadata": {},
   "outputs": [],
   "source": [
    "# splitting ParticleMomentum and ParticlePoint in two arrays\n",
    "ParticleMomentum_val, ParticlePoint_val = prediction_val[:, :2], prediction_val[:, 2:]"
   ]
  },
  {
   "cell_type": "code",
   "execution_count": null,
   "metadata": {},
   "outputs": [],
   "source": [
    "# saving predictions in .npz format\n",
    "np.savez_compressed('data_val_prediction.npz', \n",
    "                    ParticlePoint=ParticlePoint_val, \n",
    "                    ParticleMomentum=ParticleMomentum_val)"
   ]
  },
  {
   "cell_type": "markdown",
   "metadata": {},
   "source": [
    "## Make predictions for test set"
   ]
  },
  {
   "cell_type": "code",
   "execution_count": null,
   "metadata": {},
   "outputs": [],
   "source": [
    "# loading test dataset\n",
    "data_test = np.load('../data_test.npz', allow_pickle=True)\n",
    "EnergyDeposit_test = data_test['EnergyDeposit']\n",
    "EnergyDeposit_test = EnergyDeposit_test.reshape(-1, 30, 30)"
   ]
  },
  {
   "cell_type": "code",
   "execution_count": null,
   "metadata": {},
   "outputs": [],
   "source": [
    "# our feature matrix\n",
    "X_test = []\n",
    "for img in tqdm(EnergyDeposit_test):\n",
    "    X_test.append(np.concatenate([measure.moments(img, order=ORDER_OF_MOMENT).ravel(), \n",
    "                                  measure.moments_central(img, order=ORDER_OF_MOMENT).ravel()]))\n",
    "X_test = np.c_[X_test]\n",
    "X_test = (X_test - X_mean) / X_std\n",
    "X_test = polynomial_features.transform(X_test)\n",
    "# X_test = X_test[:, idx_of_features]"
   ]
  },
  {
   "cell_type": "code",
   "execution_count": null,
   "metadata": {},
   "outputs": [],
   "source": [
    "# predicting [data_num, 4] array with px, py, x, y\n",
    "prediction_test = model.predict(X_test)"
   ]
  },
  {
   "cell_type": "code",
   "execution_count": null,
   "metadata": {},
   "outputs": [],
   "source": [
    "# splitting ParticleMomentum and ParticlePoint in two arrays\n",
    "ParticleMomentum_test, ParticlePoint_test = prediction_test[:, :2], prediction_test[:, 2:]"
   ]
  },
  {
   "cell_type": "code",
   "execution_count": null,
   "metadata": {},
   "outputs": [],
   "source": [
    "# saving predictions in .npz format\n",
    "np.savez_compressed('data_test_prediction.npz', \n",
    "                    ParticlePoint=ParticlePoint_test, \n",
    "                    ParticleMomentum=ParticleMomentum_test)"
   ]
  },
  {
   "cell_type": "code",
   "execution_count": null,
   "metadata": {},
   "outputs": [],
   "source": [
    "plt.scatter(*ParticleMomentum_test.T);"
   ]
  },
  {
   "cell_type": "code",
   "execution_count": null,
   "metadata": {},
   "outputs": [],
   "source": [
    "plt.scatter(*ParticlePoint_test.T);"
   ]
  },
  {
   "cell_type": "markdown",
   "metadata": {},
   "source": [
    "## `zip-zip` files together"
   ]
  },
  {
   "cell_type": "code",
   "execution_count": null,
   "metadata": {},
   "outputs": [],
   "source": [
    "!zip solution.zip data_val_prediction.npz data_test_prediction.npz"
   ]
  },
  {
   "cell_type": "code",
   "execution_count": null,
   "metadata": {},
   "outputs": [],
   "source": [
    "from IPython.display import FileLink\n",
    "FileLink('./solution.zip')"
   ]
  },
  {
   "cell_type": "markdown",
   "metadata": {},
   "source": [
    "## Awesome, you are breathtaking!\n",
    "\n",
    "![](https://i.kym-cdn.com/entries/icons/original/000/030/029/cover2.jpg)\n",
    "\n",
    "Now you can send it to codalab :)\n",
    "\n",
    "If you forgot where it is: http://codalab.coresearch.club/competitions/70"
   ]
  },
  {
   "cell_type": "markdown",
   "metadata": {},
   "source": [
    "## Future steps:\n",
    "\n",
    "1. try different linear models: https://scikit-learn.org/stable/modules/classes.html#module-sklearn.linear_model\n",
    "2. parameter optimiation: L1/L2-regularization parameters, etc.\n",
    "3. calculater higher order polynomial features\n",
    "4. apply some feature selections procedures\n",
    "5. data augmentation: rotate & shift images(do not forget to transform $p_x, p_y$, $x, y$ as well!)"
   ]
  },
  {
   "cell_type": "code",
   "execution_count": null,
   "metadata": {},
   "outputs": [],
   "source": []
  }
 ],
 "metadata": {
  "kernelspec": {
   "display_name": "Python 3",
   "language": "python",
   "name": "python3"
  },
  "language_info": {
   "codemirror_mode": {
    "name": "ipython",
    "version": 3
   },
   "file_extension": ".py",
   "mimetype": "text/x-python",
   "name": "python",
   "nbconvert_exporter": "python",
   "pygments_lexer": "ipython3",
   "version": "3.6.8"
  }
 },
 "nbformat": 4,
 "nbformat_minor": 2
}
